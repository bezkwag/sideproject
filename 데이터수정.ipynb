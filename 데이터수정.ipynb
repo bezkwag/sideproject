{
  "nbformat": 4,
  "nbformat_minor": 0,
  "metadata": {
    "colab": {
      "provenance": [],
      "collapsed_sections": [
        "1XHAQg0mUFtp",
        "vHrAADu0UIY8"
      ]
    },
    "kernelspec": {
      "name": "python3",
      "display_name": "Python 3"
    },
    "language_info": {
      "name": "python"
    }
  },
  "cells": [
    {
      "cell_type": "code",
      "execution_count": 1,
      "metadata": {
        "id": "bz9oOEXWmfLv"
      },
      "outputs": [],
      "source": [
        "import pandas as pd\n",
        "import numpy as np\n",
        "import seaborn as sns\n",
        "import matplotlib.pyplot as plt"
      ]
    },
    {
      "cell_type": "markdown",
      "source": [
        "# 1차 수정"
      ],
      "metadata": {
        "id": "1XHAQg0mUFtp"
      }
    },
    {
      "cell_type": "code",
      "source": [
        "df=pd.read_csv('/content/술 - 시트3.csv')"
      ],
      "metadata": {
        "id": "GZ-OskXEmmx1"
      },
      "execution_count": null,
      "outputs": []
    },
    {
      "cell_type": "code",
      "source": [
        "df=df[['cat','기본 아이템','Unnamed: 4','Unnamed: 5']]\n",
        "df.columns=['cat','item1','item2','item3']\n",
        "df.head()"
      ],
      "metadata": {
        "colab": {
          "base_uri": "https://localhost:8080/",
          "height": 337
        },
        "id": "gULskJP2m4SE",
        "outputId": "c7bdde00-9d2a-4f89-f245-7a7e607d609e"
      },
      "execution_count": null,
      "outputs": [
        {
          "output_type": "execute_result",
          "data": {
            "text/plain": [
              "    cat               item1  \\\n",
              "0  소주퇴근  길비스, 핀란디아, 화이트 레이크   \n",
              "1  소주승리                 NaN   \n",
              "2  소주연인          스미노프 - 레드    \n",
              "3  소주위로  딥에디 - 오리지널, 그레이 구스   \n",
              "4  소주축제                 NaN   \n",
              "\n",
              "                                               item2 item3  \n",
              "0                    블랙 앤 화이트, 칼라일, 앱솔루트, 딥에디 - 오리지널   NaN  \n",
              "1  길비스,100 파이퍼스,탈리스만,비피터,스미노프 - 레드,호세쿠엘보,예거 마이스터,...   NaN  \n",
              "2                  앱솔루트 - 자몽, 그레이 구스, 길비스, 핀란디아, 깔루아   NaN  \n",
              "3       에반 윌리엄스, 앱솔루트, 화이트 레이크, 핀란디아, 핸드릭스, 봄베이 사파이어   NaN  \n",
              "4  아페롤,파쏘아,아페롤 스프리츠,호세쿠엘보 마가리타,피치트리,바카디 모히또,업타운 마가리타   NaN  "
            ],
            "text/html": [
              "\n",
              "  <div id=\"df-ebed6792-d1ec-413f-a0fd-634284762b53\">\n",
              "    <div class=\"colab-df-container\">\n",
              "      <div>\n",
              "<style scoped>\n",
              "    .dataframe tbody tr th:only-of-type {\n",
              "        vertical-align: middle;\n",
              "    }\n",
              "\n",
              "    .dataframe tbody tr th {\n",
              "        vertical-align: top;\n",
              "    }\n",
              "\n",
              "    .dataframe thead th {\n",
              "        text-align: right;\n",
              "    }\n",
              "</style>\n",
              "<table border=\"1\" class=\"dataframe\">\n",
              "  <thead>\n",
              "    <tr style=\"text-align: right;\">\n",
              "      <th></th>\n",
              "      <th>cat</th>\n",
              "      <th>item1</th>\n",
              "      <th>item2</th>\n",
              "      <th>item3</th>\n",
              "    </tr>\n",
              "  </thead>\n",
              "  <tbody>\n",
              "    <tr>\n",
              "      <th>0</th>\n",
              "      <td>소주퇴근</td>\n",
              "      <td>길비스, 핀란디아, 화이트 레이크</td>\n",
              "      <td>블랙 앤 화이트, 칼라일, 앱솔루트, 딥에디 - 오리지널</td>\n",
              "      <td>NaN</td>\n",
              "    </tr>\n",
              "    <tr>\n",
              "      <th>1</th>\n",
              "      <td>소주승리</td>\n",
              "      <td>NaN</td>\n",
              "      <td>길비스,100 파이퍼스,탈리스만,비피터,스미노프 - 레드,호세쿠엘보,예거 마이스터,...</td>\n",
              "      <td>NaN</td>\n",
              "    </tr>\n",
              "    <tr>\n",
              "      <th>2</th>\n",
              "      <td>소주연인</td>\n",
              "      <td>스미노프 - 레드</td>\n",
              "      <td>앱솔루트 - 자몽, 그레이 구스, 길비스, 핀란디아, 깔루아</td>\n",
              "      <td>NaN</td>\n",
              "    </tr>\n",
              "    <tr>\n",
              "      <th>3</th>\n",
              "      <td>소주위로</td>\n",
              "      <td>딥에디 - 오리지널, 그레이 구스</td>\n",
              "      <td>에반 윌리엄스, 앱솔루트, 화이트 레이크, 핀란디아, 핸드릭스, 봄베이 사파이어</td>\n",
              "      <td>NaN</td>\n",
              "    </tr>\n",
              "    <tr>\n",
              "      <th>4</th>\n",
              "      <td>소주축제</td>\n",
              "      <td>NaN</td>\n",
              "      <td>아페롤,파쏘아,아페롤 스프리츠,호세쿠엘보 마가리타,피치트리,바카디 모히또,업타운 마가리타</td>\n",
              "      <td>NaN</td>\n",
              "    </tr>\n",
              "  </tbody>\n",
              "</table>\n",
              "</div>\n",
              "      <button class=\"colab-df-convert\" onclick=\"convertToInteractive('df-ebed6792-d1ec-413f-a0fd-634284762b53')\"\n",
              "              title=\"Convert this dataframe to an interactive table.\"\n",
              "              style=\"display:none;\">\n",
              "        \n",
              "  <svg xmlns=\"http://www.w3.org/2000/svg\" height=\"24px\"viewBox=\"0 0 24 24\"\n",
              "       width=\"24px\">\n",
              "    <path d=\"M0 0h24v24H0V0z\" fill=\"none\"/>\n",
              "    <path d=\"M18.56 5.44l.94 2.06.94-2.06 2.06-.94-2.06-.94-.94-2.06-.94 2.06-2.06.94zm-11 1L8.5 8.5l.94-2.06 2.06-.94-2.06-.94L8.5 2.5l-.94 2.06-2.06.94zm10 10l.94 2.06.94-2.06 2.06-.94-2.06-.94-.94-2.06-.94 2.06-2.06.94z\"/><path d=\"M17.41 7.96l-1.37-1.37c-.4-.4-.92-.59-1.43-.59-.52 0-1.04.2-1.43.59L10.3 9.45l-7.72 7.72c-.78.78-.78 2.05 0 2.83L4 21.41c.39.39.9.59 1.41.59.51 0 1.02-.2 1.41-.59l7.78-7.78 2.81-2.81c.8-.78.8-2.07 0-2.86zM5.41 20L4 18.59l7.72-7.72 1.47 1.35L5.41 20z\"/>\n",
              "  </svg>\n",
              "      </button>\n",
              "      \n",
              "  <style>\n",
              "    .colab-df-container {\n",
              "      display:flex;\n",
              "      flex-wrap:wrap;\n",
              "      gap: 12px;\n",
              "    }\n",
              "\n",
              "    .colab-df-convert {\n",
              "      background-color: #E8F0FE;\n",
              "      border: none;\n",
              "      border-radius: 50%;\n",
              "      cursor: pointer;\n",
              "      display: none;\n",
              "      fill: #1967D2;\n",
              "      height: 32px;\n",
              "      padding: 0 0 0 0;\n",
              "      width: 32px;\n",
              "    }\n",
              "\n",
              "    .colab-df-convert:hover {\n",
              "      background-color: #E2EBFA;\n",
              "      box-shadow: 0px 1px 2px rgba(60, 64, 67, 0.3), 0px 1px 3px 1px rgba(60, 64, 67, 0.15);\n",
              "      fill: #174EA6;\n",
              "    }\n",
              "\n",
              "    [theme=dark] .colab-df-convert {\n",
              "      background-color: #3B4455;\n",
              "      fill: #D2E3FC;\n",
              "    }\n",
              "\n",
              "    [theme=dark] .colab-df-convert:hover {\n",
              "      background-color: #434B5C;\n",
              "      box-shadow: 0px 1px 3px 1px rgba(0, 0, 0, 0.15);\n",
              "      filter: drop-shadow(0px 1px 2px rgba(0, 0, 0, 0.3));\n",
              "      fill: #FFFFFF;\n",
              "    }\n",
              "  </style>\n",
              "\n",
              "      <script>\n",
              "        const buttonEl =\n",
              "          document.querySelector('#df-ebed6792-d1ec-413f-a0fd-634284762b53 button.colab-df-convert');\n",
              "        buttonEl.style.display =\n",
              "          google.colab.kernel.accessAllowed ? 'block' : 'none';\n",
              "\n",
              "        async function convertToInteractive(key) {\n",
              "          const element = document.querySelector('#df-ebed6792-d1ec-413f-a0fd-634284762b53');\n",
              "          const dataTable =\n",
              "            await google.colab.kernel.invokeFunction('convertToInteractive',\n",
              "                                                     [key], {});\n",
              "          if (!dataTable) return;\n",
              "\n",
              "          const docLinkHtml = 'Like what you see? Visit the ' +\n",
              "            '<a target=\"_blank\" href=https://colab.research.google.com/notebooks/data_table.ipynb>data table notebook</a>'\n",
              "            + ' to learn more about interactive tables.';\n",
              "          element.innerHTML = '';\n",
              "          dataTable['output_type'] = 'display_data';\n",
              "          await google.colab.output.renderOutput(dataTable, element);\n",
              "          const docLink = document.createElement('div');\n",
              "          docLink.innerHTML = docLinkHtml;\n",
              "          element.appendChild(docLink);\n",
              "        }\n",
              "      </script>\n",
              "    </div>\n",
              "  </div>\n",
              "  "
            ]
          },
          "metadata": {},
          "execution_count": 62
        }
      ]
    },
    {
      "cell_type": "code",
      "source": [
        "df['level2']=df['cat'].apply(lambda x:x[-2:])\n",
        "df['level1']=df['cat'].apply(lambda x:x[:len(x)-2])"
      ],
      "metadata": {
        "id": "52eiaVzvm7rx"
      },
      "execution_count": null,
      "outputs": []
    },
    {
      "cell_type": "code",
      "source": [
        "df=df.fillna('')"
      ],
      "metadata": {
        "id": "Fyp5gYYgoR8-"
      },
      "execution_count": null,
      "outputs": []
    },
    {
      "cell_type": "code",
      "source": [
        "df['name']=df['item1'].str.cat(','+df['item2']).str.cat(','+df['item3'])"
      ],
      "metadata": {
        "id": "q0e9jPPpoGiK"
      },
      "execution_count": null,
      "outputs": []
    },
    {
      "cell_type": "code",
      "source": [
        "df=df[['level1','level2','name']]"
      ],
      "metadata": {
        "id": "pcQyEzOsoq8V"
      },
      "execution_count": null,
      "outputs": []
    },
    {
      "cell_type": "code",
      "source": [
        "df['name']=df['name'].apply(lambda x:x.split(','))"
      ],
      "metadata": {
        "id": "AiMyBVbqqKbC"
      },
      "execution_count": null,
      "outputs": []
    },
    {
      "cell_type": "code",
      "source": [
        "df2=pd.DataFrame(df['name'].to_list())"
      ],
      "metadata": {
        "id": "7u8CiT7cqX42"
      },
      "execution_count": null,
      "outputs": []
    },
    {
      "cell_type": "code",
      "source": [
        "df=pd.concat([df,df2], axis=1)"
      ],
      "metadata": {
        "id": "zePGzKZHrGpd"
      },
      "execution_count": null,
      "outputs": []
    },
    {
      "cell_type": "code",
      "source": [
        "df=df.drop('name',axis=1)\n",
        "df=df.set_index(['level1','level2'])"
      ],
      "metadata": {
        "id": "An7JR0DErQnM"
      },
      "execution_count": null,
      "outputs": []
    },
    {
      "cell_type": "code",
      "source": [
        "df=pd.DataFrame(df.stack())\n",
        "df.columns=['name']\n",
        "df=df.reset_index()"
      ],
      "metadata": {
        "id": "M_pOUijCn280"
      },
      "execution_count": null,
      "outputs": []
    },
    {
      "cell_type": "code",
      "source": [
        "df['name']=df['name'].apply(lambda x:x.replace(' ',''))"
      ],
      "metadata": {
        "id": "gbXXCstEsOc9"
      },
      "execution_count": null,
      "outputs": []
    },
    {
      "cell_type": "code",
      "source": [
        "def err_replace(x):\n",
        "  y=''\n",
        "  if x=='딥에디-스위트':\n",
        "    y='딥에디-스위트티'\n",
        "  elif x=='싱글톤-더프타운12':\n",
        "    y='싱글톤-더프타운12년'\n",
        "  elif '페이머스' in x:\n",
        "    y='페이머스그라우스'\n",
        "  else:\n",
        "    y=x\n",
        "  return y"
      ],
      "metadata": {
        "id": "pwF1B41NstYK"
      },
      "execution_count": null,
      "outputs": []
    },
    {
      "cell_type": "code",
      "source": [
        "df['name']=df['name'].apply(err_replace)"
      ],
      "metadata": {
        "id": "x5iIwP49slqf"
      },
      "execution_count": null,
      "outputs": []
    },
    {
      "cell_type": "code",
      "source": [
        "df=df[df['name']!='']"
      ],
      "metadata": {
        "id": "X0R5RSdYr4mZ"
      },
      "execution_count": null,
      "outputs": []
    },
    {
      "cell_type": "code",
      "source": [
        "df.head()\n",
        "df.to_csv('/content/drive/MyDrive/colab/data/testdata.csv')"
      ],
      "metadata": {
        "id": "XTvcMSWFr9jS"
      },
      "execution_count": null,
      "outputs": []
    },
    {
      "cell_type": "code",
      "source": [],
      "metadata": {
        "id": "zDf5oN5dsJQY"
      },
      "execution_count": null,
      "outputs": []
    },
    {
      "cell_type": "markdown",
      "source": [
        "# 2차 수정"
      ],
      "metadata": {
        "id": "vHrAADu0UIY8"
      }
    },
    {
      "cell_type": "code",
      "source": [
        "df=pd.read_csv(\"/content/testdata.csv\")\n",
        "df1=pd.read_csv(\"/content/metadata.csv\")\n",
        "df.head()"
      ],
      "metadata": {
        "colab": {
          "base_uri": "https://localhost:8080/",
          "height": 206
        },
        "id": "sKfcbZFXUJI4",
        "outputId": "8e05f7d2-cb29-4d36-f5fe-4a3b5b80cc87"
      },
      "execution_count": 15,
      "outputs": [
        {
          "output_type": "execute_result",
          "data": {
            "text/plain": [
              "   Unnamed: 0 level1 level2  level_2    name\n",
              "0           0     소주     퇴근        0     길비스\n",
              "1           1     소주     퇴근        1    핀란디아\n",
              "2           2     소주     퇴근        2  화이트레이크\n",
              "3           3     소주     퇴근        3  블랙앤화이트\n",
              "4           4     소주     퇴근        4     칼라일"
            ],
            "text/html": [
              "\n",
              "  <div id=\"df-15447a84-4f2e-46fa-aa58-dc74174d6747\">\n",
              "    <div class=\"colab-df-container\">\n",
              "      <div>\n",
              "<style scoped>\n",
              "    .dataframe tbody tr th:only-of-type {\n",
              "        vertical-align: middle;\n",
              "    }\n",
              "\n",
              "    .dataframe tbody tr th {\n",
              "        vertical-align: top;\n",
              "    }\n",
              "\n",
              "    .dataframe thead th {\n",
              "        text-align: right;\n",
              "    }\n",
              "</style>\n",
              "<table border=\"1\" class=\"dataframe\">\n",
              "  <thead>\n",
              "    <tr style=\"text-align: right;\">\n",
              "      <th></th>\n",
              "      <th>Unnamed: 0</th>\n",
              "      <th>level1</th>\n",
              "      <th>level2</th>\n",
              "      <th>level_2</th>\n",
              "      <th>name</th>\n",
              "    </tr>\n",
              "  </thead>\n",
              "  <tbody>\n",
              "    <tr>\n",
              "      <th>0</th>\n",
              "      <td>0</td>\n",
              "      <td>소주</td>\n",
              "      <td>퇴근</td>\n",
              "      <td>0</td>\n",
              "      <td>길비스</td>\n",
              "    </tr>\n",
              "    <tr>\n",
              "      <th>1</th>\n",
              "      <td>1</td>\n",
              "      <td>소주</td>\n",
              "      <td>퇴근</td>\n",
              "      <td>1</td>\n",
              "      <td>핀란디아</td>\n",
              "    </tr>\n",
              "    <tr>\n",
              "      <th>2</th>\n",
              "      <td>2</td>\n",
              "      <td>소주</td>\n",
              "      <td>퇴근</td>\n",
              "      <td>2</td>\n",
              "      <td>화이트레이크</td>\n",
              "    </tr>\n",
              "    <tr>\n",
              "      <th>3</th>\n",
              "      <td>3</td>\n",
              "      <td>소주</td>\n",
              "      <td>퇴근</td>\n",
              "      <td>3</td>\n",
              "      <td>블랙앤화이트</td>\n",
              "    </tr>\n",
              "    <tr>\n",
              "      <th>4</th>\n",
              "      <td>4</td>\n",
              "      <td>소주</td>\n",
              "      <td>퇴근</td>\n",
              "      <td>4</td>\n",
              "      <td>칼라일</td>\n",
              "    </tr>\n",
              "  </tbody>\n",
              "</table>\n",
              "</div>\n",
              "      <button class=\"colab-df-convert\" onclick=\"convertToInteractive('df-15447a84-4f2e-46fa-aa58-dc74174d6747')\"\n",
              "              title=\"Convert this dataframe to an interactive table.\"\n",
              "              style=\"display:none;\">\n",
              "        \n",
              "  <svg xmlns=\"http://www.w3.org/2000/svg\" height=\"24px\"viewBox=\"0 0 24 24\"\n",
              "       width=\"24px\">\n",
              "    <path d=\"M0 0h24v24H0V0z\" fill=\"none\"/>\n",
              "    <path d=\"M18.56 5.44l.94 2.06.94-2.06 2.06-.94-2.06-.94-.94-2.06-.94 2.06-2.06.94zm-11 1L8.5 8.5l.94-2.06 2.06-.94-2.06-.94L8.5 2.5l-.94 2.06-2.06.94zm10 10l.94 2.06.94-2.06 2.06-.94-2.06-.94-.94-2.06-.94 2.06-2.06.94z\"/><path d=\"M17.41 7.96l-1.37-1.37c-.4-.4-.92-.59-1.43-.59-.52 0-1.04.2-1.43.59L10.3 9.45l-7.72 7.72c-.78.78-.78 2.05 0 2.83L4 21.41c.39.39.9.59 1.41.59.51 0 1.02-.2 1.41-.59l7.78-7.78 2.81-2.81c.8-.78.8-2.07 0-2.86zM5.41 20L4 18.59l7.72-7.72 1.47 1.35L5.41 20z\"/>\n",
              "  </svg>\n",
              "      </button>\n",
              "      \n",
              "  <style>\n",
              "    .colab-df-container {\n",
              "      display:flex;\n",
              "      flex-wrap:wrap;\n",
              "      gap: 12px;\n",
              "    }\n",
              "\n",
              "    .colab-df-convert {\n",
              "      background-color: #E8F0FE;\n",
              "      border: none;\n",
              "      border-radius: 50%;\n",
              "      cursor: pointer;\n",
              "      display: none;\n",
              "      fill: #1967D2;\n",
              "      height: 32px;\n",
              "      padding: 0 0 0 0;\n",
              "      width: 32px;\n",
              "    }\n",
              "\n",
              "    .colab-df-convert:hover {\n",
              "      background-color: #E2EBFA;\n",
              "      box-shadow: 0px 1px 2px rgba(60, 64, 67, 0.3), 0px 1px 3px 1px rgba(60, 64, 67, 0.15);\n",
              "      fill: #174EA6;\n",
              "    }\n",
              "\n",
              "    [theme=dark] .colab-df-convert {\n",
              "      background-color: #3B4455;\n",
              "      fill: #D2E3FC;\n",
              "    }\n",
              "\n",
              "    [theme=dark] .colab-df-convert:hover {\n",
              "      background-color: #434B5C;\n",
              "      box-shadow: 0px 1px 3px 1px rgba(0, 0, 0, 0.15);\n",
              "      filter: drop-shadow(0px 1px 2px rgba(0, 0, 0, 0.3));\n",
              "      fill: #FFFFFF;\n",
              "    }\n",
              "  </style>\n",
              "\n",
              "      <script>\n",
              "        const buttonEl =\n",
              "          document.querySelector('#df-15447a84-4f2e-46fa-aa58-dc74174d6747 button.colab-df-convert');\n",
              "        buttonEl.style.display =\n",
              "          google.colab.kernel.accessAllowed ? 'block' : 'none';\n",
              "\n",
              "        async function convertToInteractive(key) {\n",
              "          const element = document.querySelector('#df-15447a84-4f2e-46fa-aa58-dc74174d6747');\n",
              "          const dataTable =\n",
              "            await google.colab.kernel.invokeFunction('convertToInteractive',\n",
              "                                                     [key], {});\n",
              "          if (!dataTable) return;\n",
              "\n",
              "          const docLinkHtml = 'Like what you see? Visit the ' +\n",
              "            '<a target=\"_blank\" href=https://colab.research.google.com/notebooks/data_table.ipynb>data table notebook</a>'\n",
              "            + ' to learn more about interactive tables.';\n",
              "          element.innerHTML = '';\n",
              "          dataTable['output_type'] = 'display_data';\n",
              "          await google.colab.output.renderOutput(dataTable, element);\n",
              "          const docLink = document.createElement('div');\n",
              "          docLink.innerHTML = docLinkHtml;\n",
              "          element.appendChild(docLink);\n",
              "        }\n",
              "      </script>\n",
              "    </div>\n",
              "  </div>\n",
              "  "
            ]
          },
          "metadata": {},
          "execution_count": 15
        }
      ]
    },
    {
      "cell_type": "code",
      "source": [
        "df1['name']=df1['name'].apply(lambda x:x.replace(\" \",''))"
      ],
      "metadata": {
        "id": "6Bij-E8_Y6Nu"
      },
      "execution_count": 16,
      "outputs": []
    },
    {
      "cell_type": "code",
      "source": [
        "df=df[['level1','level2','name']]\n",
        "df2=pd.merge(df,df1,on='name', how='left')"
      ],
      "metadata": {
        "id": "34yi3UxJUXBv"
      },
      "execution_count": 17,
      "outputs": []
    },
    {
      "cell_type": "code",
      "source": [
        "df2=df2.drop('name', axis=1)"
      ],
      "metadata": {
        "id": "FUJA_7x-YyoN"
      },
      "execution_count": 21,
      "outputs": []
    },
    {
      "cell_type": "code",
      "source": [
        "df2.to_csv('/content/testdata.csv')"
      ],
      "metadata": {
        "id": "UJX-YUiAY0Ia"
      },
      "execution_count": 22,
      "outputs": []
    },
    {
      "cell_type": "code",
      "source": [],
      "metadata": {
        "id": "_HWkYg5RbOnV"
      },
      "execution_count": null,
      "outputs": []
    }
  ]
}